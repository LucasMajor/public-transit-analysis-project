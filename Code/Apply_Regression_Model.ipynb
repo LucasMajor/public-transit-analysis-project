{
 "cells": [
  {
   "cell_type": "code",
   "execution_count": null,
   "metadata": {},
   "outputs": [],
   "source": [
    "##METHOD 2 - REGRESSION MODEL\n",
    "\n",
    "##Convert excel table containing Zillow Scores to table\n",
    "arcpy.conversion.ExcelToTable(r\"C:\\Users\\lbmaj\\OneDrive\\Documents\\ArcGIS\\Projects\\Final Project\\Transit.xlsx\", r\"C:\\Users\\lbmaj\\OneDrive\\Documents\\ArcGIS\\Projects\\Final Project\\Final Project.gdb\\Transit_ExcelToTable\", '', 1, '')\n",
    "\n",
    "##Join all Parcels from Hennepin dataset that have Zillow values calculated to table with Zillow values\n",
    "arcpy.management.JoinField(\"Transit_ExcelToTable\", \"ID\", \"ParcelsHennepin\", \"VIEWID\", \"SALE_VALUE\", \"NOT_USE_FM\", None)\n",
    "\n",
    "##Create New Excel table, this table will be used in R to calculate the regression model\n",
    "arcpy.conversion.TableToExcel(\"Transit_ExcelToTable\", r\"C:\\Users\\lbmaj\\OneDrive\\Documents\\ArcGIS\\Projects\\Final Project\\Transit.xlsx\", \"NAME\", \"CODE\")"
   ]
  },
  {
   "cell_type": "code",
   "execution_count": null,
   "metadata": {},
   "outputs": [],
   "source": [
    "##After running linear and polynomial model in R, apply model to calculate scores\n",
    "\n",
    "##Create a copy of every parcel shapefile\n",
    "arcpy.management.Copy(r\"C:\\Users\\lbmaj\\OneDrive\\Documents\\ArcGIS\\Projects\\Final Project\\Parcels\\ParcelsAnoka.shp\", r\"C:\\Users\\lbmaj\\OneDrive\\Documents\\ArcGIS\\Projects\\Final Project\\LM Parcels\\ParcelsAnoka_LM.shp\", \"ShapeFile\", None)\n",
    "arcpy.management.Copy(r\"C:\\Users\\lbmaj\\OneDrive\\Documents\\ArcGIS\\Projects\\Final Project\\parcela_metrogis.shp\", r\"C:\\Users\\lbmaj\\OneDrive\\Documents\\ArcGIS\\Projects\\Final Project\\LM Parcels\\ParcelsDakota_LM.shp\", \"ShapeFile\", None)\n",
    "arcpy.management.Copy(r\"C:\\Users\\lbmaj\\OneDrive\\Documents\\ArcGIS\\Projects\\Final Project\\Final Project.gdb\\parcels_Dakota\", r\"C:\\Users\\lbmaj\\OneDrive\\Documents\\ArcGIS\\Projects\\Final Project\\Final Project.gdb\\ParcelsDakota_LM\", \"ShapeFile\", None)\n",
    "arcpy.management.Copy(r\"C:\\Users\\lbmaj\\OneDrive\\Documents\\ArcGIS\\Projects\\Final Project\\Ramsey\\CDSTL_AttributedParcelPoly.shp\", r\"C:\\Users\\lbmaj\\OneDrive\\Documents\\ArcGIS\\Projects\\Final Project\\LM Parcels\\ParcelsRamsey_LM.shp\", \"ShapeFile\", None)\n",
    "arcpy.management.Copy(r\"C:\\Users\\lbmaj\\OneDrive\\Documents\\ArcGIS\\Projects\\Final Project\\Parcels\\ParcelsWashington.shp\", r\"C:\\Users\\lbmaj\\OneDrive\\Documents\\ArcGIS\\Projects\\Final Project\\LM Parcels\\ParcelsWashington_LM.shp\", \"ShapeFile\", None)\n",
    "arcpy.management.Copy(r\"C:\\Users\\lbmaj\\OneDrive\\Documents\\ArcGIS\\Projects\\Final Project\\Parcels\\ParcelsCarver.shp\", r\"C:\\Users\\lbmaj\\OneDrive\\Documents\\ArcGIS\\Projects\\Final Project\\LM Parcels\\ParcelsCarver_LM.shp\", \"ShapeFile\", None)\n",
    "arcpy.management.Copy(r\"C:\\Users\\lbmaj\\OneDrive\\Documents\\ArcGIS\\Projects\\Final Project\\Parcels\\ParcelsHennepin.shp\", r\"C:\\Users\\lbmaj\\OneDrive\\Documents\\ArcGIS\\Projects\\Final Project\\LM Parcels\\ParcelsHennepin_LM.shp\", \"ShapeFile\", None)\n",
    "arcpy.management.Copy(r\"C:\\Users\\lbmaj\\OneDrive\\Documents\\ArcGIS\\Projects\\Final Project\\Parcels\\ParcelsScott.shp\", r\"C:\\Users\\lbmaj\\OneDrive\\Documents\\ArcGIS\\Projects\\Final Project\\LM Parcels\\ParcelsScott_LM.shp\", \"ShapeFile\", None)\n",
    "\n",
    "\n",
    "## Project the Dakota parcel dataset because it came from a different source and has a different map projection\n",
    "arcpy.management.Project(\"ParcelsDakota_LM\", r\"C:\\Users\\lbmaj\\OneDrive\\Documents\\ArcGIS\\Projects\\Final Project\\Final Project.gdb\\ParcelsDakota_LM_Project1\", 'PROJCS[\"NAD_1983_UTM_Zone_15N\",GEOGCS[\"GCS_North_American_1983\",DATUM[\"D_North_American_1983\",SPHEROID[\"GRS_1980\",6378137.0,298.257222101]],PRIMEM[\"Greenwich\",0.0],UNIT[\"Degree\",0.0174532925199433]],PROJECTION[\"Transverse_Mercator\"],PARAMETER[\"False_Easting\",500000.0],PARAMETER[\"False_Northing\",0.0],PARAMETER[\"Central_Meridian\",-93.0],PARAMETER[\"Scale_Factor\",0.9996],PARAMETER[\"Latitude_Of_Origin\",0.0],UNIT[\"Meter\",1.0]]', None, 'PROJCS[\"MN_Dakota_Lambert_Conformal_Conic\",GEOGCS[\"GCS_MN_Dakota\",DATUM[\"D_MN_Dakota\",SPHEROID[\"MN_Dakota\",6378421.989,298.2572133677353]],PRIMEM[\"Greenwich\",0.0],UNIT[\"Degree\",0.0174532925199433]],PROJECTION[\"Lambert_Conformal_Conic\"],PARAMETER[\"False_Easting\",500000.0],PARAMETER[\"False_Northing\",100000.0],PARAMETER[\"Central_Meridian\",-93.31666666666666],PARAMETER[\"Standard_Parallel_1\",44.51666666666667],PARAMETER[\"Standard_Parallel_2\",44.91666666666666],PARAMETER[\"Latitude_Of_Origin\",44.47194444444445],UNIT[\"Foot_US\",0.3048006096012192]]', \"NO_PRESERVE_SHAPE\", None, \"NO_VERTICAL\")"
   ]
  },
  {
   "cell_type": "code",
   "execution_count": null,
   "metadata": {},
   "outputs": [],
   "source": [
    "##Generate near tables that find the closest transit stop\n",
    "\n",
    "arcpy.analysis.GenerateNearTable(\"ParcelsScott_LM\", \"TransitStops_SpatialJoin\", r\"C:\\Users\\lbmaj\\OneDrive\\Documents\\ArcGIS\\Projects\\Final Project\\Final Project.gdb\\Scott_LM_NearT\", \"1 Kilometers\", \"NO_LOCATION\", \"NO_ANGLE\", \"CLOSEST\", 0, \"PLANAR\")\n",
    "arcpy.analysis.GenerateNearTable(\"ParcelsHennepin_LM\", \"TransitStops_SpatialJoin\", r\"C:\\Users\\lbmaj\\OneDrive\\Documents\\ArcGIS\\Projects\\Final Project\\Final Project.gdb\\Hennepin_LM_NearT\", \"1 Kilometers\", \"NO_LOCATION\", \"NO_ANGLE\", \"CLOSEST\", 0, \"PLANAR\")\n",
    "arcpy.analysis.GenerateNearTable(\"ParcelsCarver_LM\", \"TransitStops_SpatialJoin\", r\"C:\\Users\\lbmaj\\OneDrive\\Documents\\ArcGIS\\Projects\\Final Project\\Final Project.gdb\\Carver_LM_NearT\", \"1 Kilometers\", \"NO_LOCATION\", \"NO_ANGLE\", \"CLOSEST\", 0, \"PLANAR\")\n",
    "arcpy.analysis.GenerateNearTable(\"ParcelsAnoka_LM\", \"TransitStops_SpatialJoin\", r\"C:\\Users\\lbmaj\\OneDrive\\Documents\\ArcGIS\\Projects\\Final Project\\Final Project.gdb\\Anoka_LM_NearT\", \"1 Kilometers\", \"NO_LOCATION\", \"NO_ANGLE\", \"CLOSEST\", 0, \"PLANAR\")\n",
    "arcpy.analysis.GenerateNearTable(\"ParcelsWashington_LM\", \"TransitStops_SpatialJoin\", r\"C:\\Users\\lbmaj\\OneDrive\\Documents\\ArcGIS\\Projects\\Final Project\\Final Project.gdb\\Washington_LM_NearT\", \"1 Kilometers\", \"NO_LOCATION\", \"NO_ANGLE\", \"CLOSEST\", 0, \"PLANAR\")\n",
    "arcpy.analysis.GenerateNearTable(\"ParcelsDakota_LM_Project1\", \"TransitStops_SpatialJoin\", r\"C:\\Users\\lbmaj\\OneDrive\\Documents\\ArcGIS\\Projects\\Final Project\\Final Project.gdb\\Dakota_LM_NearT\", \"1 Kilometers\", \"NO_LOCATION\", \"NO_ANGLE\", \"CLOSEST\", 0, \"PLANAR\")\n",
    "arcpy.analysis.GenerateNearTable(\"ParcelsRamsey_LM\", \"TransitStops_SpatialJoin\", r\"C:\\Users\\lbmaj\\OneDrive\\Documents\\ArcGIS\\Projects\\Final Project\\Final Project.gdb\\Ramsey_LM_NearT\", \"1 Kilometers\", \"NO_LOCATION\", \"NO_ANGLE\", \"CLOSEST\", 0, \"PLANAR\")"
   ]
  },
  {
   "cell_type": "code",
   "execution_count": null,
   "metadata": {},
   "outputs": [],
   "source": [
    "##Join Parcel tables to near table with distance to nearest parcel\n",
    "\n",
    "arcpy.management.JoinField(\"ParcelsScott_LM\", \"FID\", \"Scott_LM_NearT\", \"IN_FID\", \"NEAR_DIST\", \"NOT_USE_FM\", None)\n",
    "arcpy.management.JoinField(\"ParcelsHennepin_LM\", \"FID\", \"Hennepin_LM_NearT\", \"IN_FID\", \"NEAR_DIST\", \"NOT_USE_FM\", None)\n",
    "arcpy.management.JoinField(\"ParcelsCarver_LM\", \"FID\", \"Carver_LM_NearT\", \"IN_FID\", \"NEAR_DIST\", \"NOT_USE_FM\", None)\n",
    "arcpy.management.JoinField(\"ParcelsAnoka_LM\", \"FID\", \"Anoka_LM_NearT\", \"IN_FID\", \"NEAR_DIST\", \"NOT_USE_FM\", None)\n",
    "arcpy.management.JoinField(\"ParcelsWashington_LM\", \"FID\", \"Washington_LM_NearT\", \"IN_FID\", \"NEAR_DIST\", \"NOT_USE_FM\", None)\n",
    "arcpy.management.JoinField(\"ParcelsRamsey_LM\", \"FID\", \"Ramsey_LM_NearT\", \"IN_FID\", \"NEAR_DIST\", \"NOT_USE_FM\", None)\n",
    "arcpy.management.JoinField(\"ParcelsDakota_LM_Project1\", \"OBJECTID\", \"Dakota_LM_NearT\", \"IN_FID\", \"NEAR_DIST\", \"NOT_USE_FM\", None)"
   ]
  },
  {
   "cell_type": "code",
   "execution_count": null,
   "metadata": {},
   "outputs": [],
   "source": [
    "##Spatial join with transit stops with parameter within 1 km\n",
    "##This acquires the join count attribute which is equal to the number of transit stops variable in the regression model\n",
    "\n",
    "arcpy.analysis.SpatialJoin(\"ParcelsScott_LM\", \"TransitStops_SpatialJoin\", r\"C:\\Users\\lbmaj\\OneDrive\\Documents\\ArcGIS\\Projects\\Final Project\\Final Project.gdb\\ParcelsScott_LM_SpatialJoin\", \"JOIN_ONE_TO_ONE\", \"KEEP_ALL\", \"WITHIN_A_DISTANCE\", \"1 Kilometers\", '')\n",
    "arcpy.analysis.SpatialJoin(\"ParcelsHennepin_LM\", \"TransitStops_SpatialJoin\", r\"C:\\Users\\lbmaj\\OneDrive\\Documents\\ArcGIS\\Projects\\Final Project\\Final Project.gdb\\ParcelsHennepin_LM_SpatialJoin\", \"JOIN_ONE_TO_ONE\", \"KEEP_ALL\", \"WITHIN_A_DISTANCE\", \"1 Kilometers\", '')\n",
    "arcpy.analysis.SpatialJoin(\"ParcelsCarver_LM\", \"TransitStops_SpatialJoin\", r\"C:\\Users\\lbmaj\\OneDrive\\Documents\\ArcGIS\\Projects\\Final Project\\Final Project.gdb\\ParcelsCarver_LM_SpatialJoin\", \"JOIN_ONE_TO_ONE\", \"KEEP_ALL\", \"WITHIN_A_DISTANCE\", \"1 Kilometers\", '')\n",
    "arcpy.analysis.SpatialJoin(\"ParcelsWashington_LM\", \"TransitStops_SpatialJoin\", r\"C:\\Users\\lbmaj\\OneDrive\\Documents\\ArcGIS\\Projects\\Final Project\\Final Project.gdb\\ParcelsWashington_LM_SpatialJoin\", \"JOIN_ONE_TO_ONE\", \"KEEP_ALL\", \"WITHIN_A_DISTANCE\", \"1 Kilometers\", '')\n",
    "arcpy.analysis.SpatialJoin(\"ParcelsRamsey_LM\", \"TransitStops_SpatialJoin\", r\"C:\\Users\\lbmaj\\OneDrive\\Documents\\ArcGIS\\Projects\\Final Project\\Final Project.gdb\\ParcelsRamsey_LM_SpatialJoin\", \"JOIN_ONE_TO_ONE\", \"KEEP_ALL\", \"WITHIN_A_DISTANCE\", \"1 Kilometers\", '')\n",
    "arcpy.analysis.SpatialJoin(\"ParcelsAnoka_LM\", \"TransitStops_SpatialJoin\", r\"C:\\Users\\lbmaj\\OneDrive\\Documents\\ArcGIS\\Projects\\Final Project\\Final Project.gdb\\ParcelsAnoka_LM_SpatialJoin\", \"JOIN_ONE_TO_ONE\", \"KEEP_ALL\", \"WITHIN_A_DISTANCE\", \"1 Kilometers\", '')\n",
    "arcpy.analysis.SpatialJoin(\"ParcelsDakota_LM_Project1\", \"TransitStops_SpatialJoin\", r\"C:\\Users\\lbmaj\\OneDrive\\Documents\\ArcGIS\\Projects\\Final Project\\Final Project.gdb\\ParcelsDakota_LM_SpatialJoin\", \"JOIN_ONE_TO_ONE\", \"KEEP_ALL\", \"WITHIN_A_DISTANCE\", \"1 Kilometers\", '')"
   ]
  },
  {
   "cell_type": "code",
   "execution_count": null,
   "metadata": {},
   "outputs": [],
   "source": [
    "#Calculate Score based on formula from regression model\n",
    "arcpy.management.CalculateField(\"ParcelsScott_LM_SpatialJoin\", \"Score\", \"22.235+(!Join_Count!*.6099)-(.0005354*(!Join_Count! * !Join_Count!))-(.000005863*(!Join_Count! * !Join_Count! * !Join_Count!))-(.009040*!NEAR_DIST!)+(2.68*!HighFreq!)+(4.166*!Lightrail!)\", \"PYTHON3\", '', \"TEXT\", \"NO_ENFORCE_DOMAINS\")\n",
    "arcpy.management.CalculateField(\"ParcelsAnoka_LM_SpatialJoin\", \"Score\", \"22.235+(!Join_Count!*.6099)-(.0005354*(!Join_Count! * !Join_Count!))-(.000005863*(!Join_Count! * !Join_Count! * !Join_Count!))-(.009040*!NEAR_DIST!)+(2.68*!HighFreq!)+(4.166*!Lightrail!)\", \"PYTHON3\", '', \"TEXT\", \"NO_ENFORCE_DOMAINS\")\n",
    "arcpy.management.CalculateField(\"ParcelsHennepin_LM_SpatialJoin\", \"Score\", \"22.235+(!Join_Count!*.6099)-(.0005354*(!Join_Count! * !Join_Count!))-(.000005863*(!Join_Count! * !Join_Count! * !Join_Count!))-(.009040*!NEAR_DIST!)+(2.68*!HighFreq!)+(4.166*!Lightrail!)\", \"PYTHON3\", '', \"TEXT\", \"NO_ENFORCE_DOMAINS\")\n",
    "arcpy.management.CalculateField(\"ParcelsCarver_LM_SpatialJoin\", \"Score\", \"22.235+(!Join_Count!*.6099)-(.0005354*(!Join_Count! * !Join_Count!))-(.000005863*(!Join_Count! * !Join_Count! * !Join_Count!))-(.009040*!NEAR_DIST!)+(2.68*!HighFreq!)+(4.166*!Lightrail!)\", \"PYTHON3\", '', \"TEXT\", \"NO_ENFORCE_DOMAINS\")\n",
    "arcpy.management.CalculateField(\"ParcelsRamsey_LM_SpatialJoin\", \"Score\", \"22.235+(!Join_Count!*.6099)-(.0005354*(!Join_Count! * !Join_Count!))-(.000005863*(!Join_Count! * !Join_Count! * !Join_Count!))-(.009040*!NEAR_DIST!)+(2.68*!HighFreq!)+(4.166*!Lightrail!)\", \"PYTHON3\", '', \"TEXT\", \"NO_ENFORCE_DOMAINS\")\n",
    "arcpy.management.CalculateField(\"ParcelsWashington_LM_SpatialJoin\", \"Score\", \"22.235+(!Join_Count!*.6099)-(.0005354*(!Join_Count! * !Join_Count!))-(.000005863*(!Join_Count! * !Join_Count! * !Join_Count!))-(.009040*!NEAR_DIST!)+(2.68*!HighFreq!)+(4.166*!Lightrail!)\", \"PYTHON3\", '', \"TEXT\", \"NO_ENFORCE_DOMAINS\")\n",
    "arcpy.management.CalculateField(\"ParcelsDakota_LM_SpatialJoin\", \"Score\", \"22.235+(!Join_Count!*.6099)-(.0005354*(!Join_Count! * !Join_Count!))-(.000005863*(!Join_Count! * !Join_Count! * !Join_Count!))-(.009040*!NEAR_DIST!)+(2.68*!HighFreq!)+(4.166*!Lightrail!)\", \"PYTHON3\", '', \"TEXT\", \"NO_ENFORCE_DOMAINS\")"
   ]
  },
  {
   "cell_type": "code",
   "execution_count": null,
   "metadata": {},
   "outputs": [],
   "source": [
    "## Select all parcels that have join count of 0\n",
    "arcpy.management.SelectLayerByAttribute(\"ParcelsAnoka_LM_SpatialJoin\", \"NEW_SELECTION\", \"Join_Count = 0\", None)\n",
    "arcpy.management.SelectLayerByAttribute(\"ParcelsWashington_LM_SpatialJoin\", \"NEW_SELECTION\", \"Join_Count = 0\", None)\n",
    "arcpy.management.SelectLayerByAttribute(\"ParcelsScott_LM_SpatialJoin\", \"NEW_SELECTION\", \"Join_Count = 0\", None)\n",
    "arcpy.management.SelectLayerByAttribute(\"ParcelsCarver_LM_SpatialJoin\", \"NEW_SELECTION\", \"Join_Count = 0\", None)\n",
    "arcpy.management.SelectLayerByAttribute(\"ParcelsHennepin_LM_SpatialJoin\", \"NEW_SELECTION\", \"Join_Count = 0\", None)\n",
    "arcpy.management.SelectLayerByAttribute(\"ParcelsRamsey_LM_SpatialJoin\", \"NEW_SELECTION\", \"Join_Count = 0\", None)\n",
    "arcpy.management.SelectLayerByAttribute(\"ParcelsDakota_LM_SpatialJoin\", \"NEW_SELECTION\", \"Join_Count = 0\", None)"
   ]
  },
  {
   "cell_type": "code",
   "execution_count": null,
   "metadata": {},
   "outputs": [],
   "source": [
    "## Set all scores to 0 for parcels that have no transit stops within 1 km\n",
    "arcpy.management.CalculateField(\"ParcelsAnoka_LM_SpatialJoin\", \"Score\", \"0\", \"PYTHON3\", '', \"TEXT\", \"NO_ENFORCE_DOMAINS\")\n",
    "arcpy.management.CalculateField(\"ParcelsWashington_LM_SpatialJoin\", \"Score\", \"0\", \"PYTHON3\", '', \"TEXT\", \"NO_ENFORCE_DOMAINS\")\n",
    "arcpy.management.CalculateField(\"ParcelsScott_LM_SpatialJoin\", \"Score\", \"0\", \"PYTHON3\", '', \"TEXT\", \"NO_ENFORCE_DOMAINS\")\n",
    "arcpy.management.CalculateField(\"ParcelsCarver_LM_SpatialJoin\", \"Score\", \"0\", \"PYTHON3\", '', \"TEXT\", \"NO_ENFORCE_DOMAINS\")\n",
    "arcpy.management.CalculateField(\"ParcelsHennepin_LM_SpatialJoin\", \"Score\", \"0\", \"PYTHON3\", '', \"TEXT\", \"NO_ENFORCE_DOMAINS\")\n",
    "arcpy.management.CalculateField(\"ParcelsDakota_LM_SpatialJoin\", \"Score\", \"0\", \"PYTHON3\", '', \"TEXT\", \"NO_ENFORCE_DOMAINS\")\n",
    "arcpy.management.CalculateField(\"ParcelsRamsey_LM_SpatialJoin\", \"Score\", \"0\", \"PYTHON3\", '', \"TEXT\", \"NO_ENFORCE_DOMAINS\")"
   ]
  },
  {
   "cell_type": "code",
   "execution_count": null,
   "metadata": {},
   "outputs": [],
   "source": [
    "## Merge all parcels into one shape, except Dakota. (Encountered errors when trying to merge Dakota)\n",
    "\n",
    "arcpy.management.Merge(\"ParcelsScott_LM_SpatialJoin;ParcelsAnoka_LM_SpatialJoin;ParcelsWashington_LM_SpatialJoin;ParcelsHennepin_LM_SpatialJoin;ParcelsRamsey_LM_SpatialJoin;ParcelsCarver_LM_SpatialJoin\", r\"C:\\Users\\lbmaj\\OneDrive\\Documents\\ArcGIS\\Projects\\Final Project\\Final Project.gdb\\Parcels_LM_Merge\", 'Join_Count \"Join_Count\" true true false 4 Long 0 0,First,#,ParcelsScott_LM_SpatialJoin,Join_Count,-1,-1;VIEWID \"VIEWID\" true true false 4 Long 0 0,First,#,ParcelsScott_LM_SpatialJoin,VIEWID,-1,-1;ID2 \"ID2\" true true false 4 Long 0 0,First,#,ParcelsScott_LM_SpatialJoin,ID2,-1,-1;Score \"Score\" true true false 4 Float 0 0,First,#,ParcelsScott_LM_SpatialJoin,Score,-1,-1;NEAR_DIST \"NEAR_DIST\" true true false 8 Double 0 0,First,#,ParcelsScott_LM_SpatialJoin,NEAR_DIST,-1,-1;Bus \"Bus\" true true false 4 Long 0 0,First,#,ParcelsScott_LM_SpatialJoin,Bus,-1,-1;Lightrail \"Lightrail\" true true false 4 Long 0 0,First,#,ParcelsScott_LM_SpatialJoin,Lightrail,-1,-1;HighFreq \"HighFreq\" true true false 2 Short 0 0,First,#,ParcelsScott_LM_SpatialJoin,HighFreq,-1,-1', \"NO_SOURCE_INFO\")\n",
    "\n",
    "##Standardize Scores from 0 to 1\n",
    "arcpy.management.CalculateField(\"Parcels_LM_merge\", \"STD_Score\", \"!Score!/(85.80025)\", \"PYTHON3\", '', \"FLOAT\", \"NO_ENFORCE_DOMAINS\")"
   ]
  }
 ],
 "metadata": {
  "kernelspec": {
   "display_name": "ArcGISPro",
   "language": "Python",
   "name": "python3"
  },
  "language_info": {
   "file_extension": ".py",
   "name": "python",
   "version": "3"
  }
 },
 "nbformat": 4,
 "nbformat_minor": 2
}
